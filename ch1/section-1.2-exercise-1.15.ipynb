{
 "cells": [
  {
   "cell_type": "code",
   "execution_count": 48,
   "id": "c5a543c8",
   "metadata": {},
   "outputs": [],
   "source": [
    "import pandas as pd\n",
    "import matplotlib.pyplot as plt\n",
    "plt.rcParams[\"figure.figsize\"] = (12, 6)\n",
    "import numpy as np\n",
    "from math import pi"
   ]
  },
  {
   "cell_type": "code",
   "execution_count": 17,
   "id": "0151459d",
   "metadata": {},
   "outputs": [],
   "source": [
    "with open(\"section-1.2-exercise-1.15-data.txt\", \"r\") as f:\n",
    "    data = f.readlines()\n",
    "\n",
    "data = [line.strip() for line in data]\n",
    "data = [line[2:-1].split(' ') for line in data]\n",
    "data = [{\n",
    "    \"angle_deg\": int(line[0]),\n",
    "    \"angle_rad\": float(line[1]),\n",
    "    \"computed_sine\": float(line[2]),\n",
    "    \"builtin_sine\": float(line[3]),\n",
    "    \"count_p_applications\": int(line[4])\n",
    "} for line in data]"
   ]
  },
  {
   "cell_type": "code",
   "execution_count": 18,
   "id": "d845ce19",
   "metadata": {},
   "outputs": [],
   "source": [
    "data = pd.DataFrame(data)"
   ]
  },
  {
   "cell_type": "code",
   "execution_count": 72,
   "id": "0e00293e",
   "metadata": {},
   "outputs": [
    {
     "data": {
      "text/plain": [
       "9.994444366974825"
      ]
     },
     "execution_count": 72,
     "metadata": {},
     "output_type": "execute_result"
    }
   ],
   "source": []
  },
  {
   "cell_type": "code",
   "execution_count": 19,
   "id": "87f9325f",
   "metadata": {},
   "outputs": [
    {
     "data": {
      "text/html": [
       "<div>\n",
       "<style scoped>\n",
       "    .dataframe tbody tr th:only-of-type {\n",
       "        vertical-align: middle;\n",
       "    }\n",
       "\n",
       "    .dataframe tbody tr th {\n",
       "        vertical-align: top;\n",
       "    }\n",
       "\n",
       "    .dataframe thead th {\n",
       "        text-align: right;\n",
       "    }\n",
       "</style>\n",
       "<table border=\"1\" class=\"dataframe\">\n",
       "  <thead>\n",
       "    <tr style=\"text-align: right;\">\n",
       "      <th></th>\n",
       "      <th>angle_deg</th>\n",
       "      <th>angle_rad</th>\n",
       "      <th>computed_sine</th>\n",
       "      <th>builtin_sine</th>\n",
       "      <th>count_p_applications</th>\n",
       "    </tr>\n",
       "  </thead>\n",
       "  <tbody>\n",
       "    <tr>\n",
       "      <th>12</th>\n",
       "      <td>12</td>\n",
       "      <td>0.209440</td>\n",
       "      <td>0.208078</td>\n",
       "      <td>0.207912</td>\n",
       "      <td>1</td>\n",
       "    </tr>\n",
       "    <tr>\n",
       "      <th>235</th>\n",
       "      <td>235</td>\n",
       "      <td>4.101524</td>\n",
       "      <td>-0.820157</td>\n",
       "      <td>-0.819152</td>\n",
       "      <td>4</td>\n",
       "    </tr>\n",
       "    <tr>\n",
       "      <th>414</th>\n",
       "      <td>414</td>\n",
       "      <td>7.225663</td>\n",
       "      <td>0.814633</td>\n",
       "      <td>0.809017</td>\n",
       "      <td>4</td>\n",
       "    </tr>\n",
       "    <tr>\n",
       "      <th>567</th>\n",
       "      <td>567</td>\n",
       "      <td>9.896017</td>\n",
       "      <td>-0.456428</td>\n",
       "      <td>-0.453990</td>\n",
       "      <td>5</td>\n",
       "    </tr>\n",
       "    <tr>\n",
       "      <th>831</th>\n",
       "      <td>831</td>\n",
       "      <td>14.503686</td>\n",
       "      <td>0.930455</td>\n",
       "      <td>0.933580</td>\n",
       "      <td>5</td>\n",
       "    </tr>\n",
       "    <tr>\n",
       "      <th>963</th>\n",
       "      <td>963</td>\n",
       "      <td>16.807521</td>\n",
       "      <td>-0.897023</td>\n",
       "      <td>-0.891007</td>\n",
       "      <td>5</td>\n",
       "    </tr>\n",
       "    <tr>\n",
       "      <th>1056</th>\n",
       "      <td>1056</td>\n",
       "      <td>18.430677</td>\n",
       "      <td>-0.390489</td>\n",
       "      <td>-0.406737</td>\n",
       "      <td>5</td>\n",
       "    </tr>\n",
       "    <tr>\n",
       "      <th>1408</th>\n",
       "      <td>1408</td>\n",
       "      <td>24.574236</td>\n",
       "      <td>-0.525965</td>\n",
       "      <td>-0.529919</td>\n",
       "      <td>6</td>\n",
       "    </tr>\n",
       "    <tr>\n",
       "      <th>1619</th>\n",
       "      <td>1619</td>\n",
       "      <td>28.256881</td>\n",
       "      <td>0.010373</td>\n",
       "      <td>0.017452</td>\n",
       "      <td>6</td>\n",
       "    </tr>\n",
       "    <tr>\n",
       "      <th>1687</th>\n",
       "      <td>1687</td>\n",
       "      <td>29.443704</td>\n",
       "      <td>-0.923605</td>\n",
       "      <td>-0.920505</td>\n",
       "      <td>6</td>\n",
       "    </tr>\n",
       "  </tbody>\n",
       "</table>\n",
       "</div>"
      ],
      "text/plain": [
       "      angle_deg  angle_rad  computed_sine  builtin_sine  count_p_applications\n",
       "12           12   0.209440       0.208078      0.207912                     1\n",
       "235         235   4.101524      -0.820157     -0.819152                     4\n",
       "414         414   7.225663       0.814633      0.809017                     4\n",
       "567         567   9.896017      -0.456428     -0.453990                     5\n",
       "831         831  14.503686       0.930455      0.933580                     5\n",
       "963         963  16.807521      -0.897023     -0.891007                     5\n",
       "1056       1056  18.430677      -0.390489     -0.406737                     5\n",
       "1408       1408  24.574236      -0.525965     -0.529919                     6\n",
       "1619       1619  28.256881       0.010373      0.017452                     6\n",
       "1687       1687  29.443704      -0.923605     -0.920505                     6"
      ]
     },
     "execution_count": 19,
     "metadata": {},
     "output_type": "execute_result"
    }
   ],
   "source": [
    "data.sample(10).sort_index()"
   ]
  },
  {
   "cell_type": "code",
   "execution_count": 75,
   "id": "49a7aad7",
   "metadata": {
    "scrolled": false
   },
   "outputs": [
    {
     "data": {
      "text/plain": [
       "[<matplotlib.lines.Line2D at 0x26b81425b50>]"
      ]
     },
     "execution_count": 75,
     "metadata": {},
     "output_type": "execute_result"
    },
    {
     "data": {
      "image/png": "[encoded data removed]",
      "text/plain": [
       "<Figure size 864x432 with 1 Axes>"
      ]
     },
     "metadata": {
      "needs_background": "light"
     },
     "output_type": "display_data"
    }
   ],
   "source": [
    "plt.plot(data[\"angle_deg\"], data[\"count_p_applications\"])\n",
    "plt.plot(data[\"angle_deg\"][1:], np.log(data[\"angle_deg\"][1:]/np.log(30)))"
   ]
  },
  {
   "cell_type": "code",
   "execution_count": 43,
   "id": "30cd5806",
   "metadata": {},
   "outputs": [],
   "source": [
    "?np.log"
   ]
  },
  {
   "cell_type": "code",
   "execution_count": null,
   "id": "adcd5284",
   "metadata": {},
   "outputs": [],
   "source": []
  }
 ],
 "metadata": {
  "kernelspec": {
   "display_name": "Python 3 (ipykernel)",
   "language": "python",
   "name": "python3"
  },
  "language_info": {
   "codemirror_mode": {
    "name": "ipython",
    "version": 3
   },
   "file_extension": ".py",
   "mimetype": "text/x-python",
   "name": "python",
   "nbconvert_exporter": "python",
   "pygments_lexer": "ipython3",
   "version": "3.9.12"
  }
 },
 "nbformat": 4,
 "nbformat_minor": 5
}
